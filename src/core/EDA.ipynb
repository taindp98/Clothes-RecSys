{
 "cells": [
  {
   "cell_type": "code",
   "execution_count": 30,
   "id": "6fc22386-809f-4179-8f7a-8adb7e9374f5",
   "metadata": {},
   "outputs": [],
   "source": [
    "import os\n",
    "import pandas as pd\n",
    "from sklearn.model_selection import train_test_split\n",
    "import json"
   ]
  },
  {
   "cell_type": "code",
   "execution_count": 3,
   "id": "9af2585f-23bb-4b39-ab23-4223b70c9a21",
   "metadata": {},
   "outputs": [],
   "source": [
    "_ROOT = r\"D:\\data\\fashion\""
   ]
  },
  {
   "cell_type": "code",
   "execution_count": 36,
   "id": "b4e40095-1c95-46e0-b2bb-63f53a92ef9a",
   "metadata": {},
   "outputs": [
    {
     "data": {
      "text/html": [
       "<div>\n",
       "<style scoped>\n",
       "    .dataframe tbody tr th:only-of-type {\n",
       "        vertical-align: middle;\n",
       "    }\n",
       "\n",
       "    .dataframe tbody tr th {\n",
       "        vertical-align: top;\n",
       "    }\n",
       "\n",
       "    .dataframe thead th {\n",
       "        text-align: right;\n",
       "    }\n",
       "</style>\n",
       "<table border=\"1\" class=\"dataframe\">\n",
       "  <thead>\n",
       "    <tr style=\"text-align: right;\">\n",
       "      <th></th>\n",
       "      <th>image_name</th>\n",
       "      <th>cloth_type</th>\n",
       "    </tr>\n",
       "  </thead>\n",
       "  <tbody>\n",
       "    <tr>\n",
       "      <th>0</th>\n",
       "      <td>ao-len-cardigan/img_56840843.jpg</td>\n",
       "      <td>ao-len-cardigan</td>\n",
       "    </tr>\n",
       "    <tr>\n",
       "      <th>1</th>\n",
       "      <td>ao-len-cardigan/img_37885529.jpg</td>\n",
       "      <td>ao-len-cardigan</td>\n",
       "    </tr>\n",
       "    <tr>\n",
       "      <th>2</th>\n",
       "      <td>ao-len-cardigan/img_59192395.jpg</td>\n",
       "      <td>ao-len-cardigan</td>\n",
       "    </tr>\n",
       "    <tr>\n",
       "      <th>3</th>\n",
       "      <td>ao-len-cardigan/img_45299965.jpg</td>\n",
       "      <td>ao-len-cardigan</td>\n",
       "    </tr>\n",
       "    <tr>\n",
       "      <th>4</th>\n",
       "      <td>ao-len-cardigan/img_50443424.jpg</td>\n",
       "      <td>ao-len-cardigan</td>\n",
       "    </tr>\n",
       "    <tr>\n",
       "      <th>...</th>\n",
       "      <td>...</td>\n",
       "      <td>...</td>\n",
       "    </tr>\n",
       "    <tr>\n",
       "      <th>5085</th>\n",
       "      <td>ao-thun-ba-lo/img_1012165.jpg</td>\n",
       "      <td>ao-thun-ba-lo</td>\n",
       "    </tr>\n",
       "    <tr>\n",
       "      <th>5086</th>\n",
       "      <td>ao-thun-ba-lo/img_1012095.jpg</td>\n",
       "      <td>ao-thun-ba-lo</td>\n",
       "    </tr>\n",
       "    <tr>\n",
       "      <th>5087</th>\n",
       "      <td>ao-thun-ba-lo/img_1012135.jpg</td>\n",
       "      <td>ao-thun-ba-lo</td>\n",
       "    </tr>\n",
       "    <tr>\n",
       "      <th>5088</th>\n",
       "      <td>ao-thun-ba-lo/img_1012115.jpg</td>\n",
       "      <td>ao-thun-ba-lo</td>\n",
       "    </tr>\n",
       "    <tr>\n",
       "      <th>5089</th>\n",
       "      <td>ao-thun-ba-lo/img_1012125.jpg</td>\n",
       "      <td>ao-thun-ba-lo</td>\n",
       "    </tr>\n",
       "  </tbody>\n",
       "</table>\n",
       "<p>5090 rows × 2 columns</p>\n",
       "</div>"
      ],
      "text/plain": [
       "                            image_name       cloth_type\n",
       "0     ao-len-cardigan/img_56840843.jpg  ao-len-cardigan\n",
       "1     ao-len-cardigan/img_37885529.jpg  ao-len-cardigan\n",
       "2     ao-len-cardigan/img_59192395.jpg  ao-len-cardigan\n",
       "3     ao-len-cardigan/img_45299965.jpg  ao-len-cardigan\n",
       "4     ao-len-cardigan/img_50443424.jpg  ao-len-cardigan\n",
       "...                                ...              ...\n",
       "5085     ao-thun-ba-lo/img_1012165.jpg    ao-thun-ba-lo\n",
       "5086     ao-thun-ba-lo/img_1012095.jpg    ao-thun-ba-lo\n",
       "5087     ao-thun-ba-lo/img_1012135.jpg    ao-thun-ba-lo\n",
       "5088     ao-thun-ba-lo/img_1012115.jpg    ao-thun-ba-lo\n",
       "5089     ao-thun-ba-lo/img_1012125.jpg    ao-thun-ba-lo\n",
       "\n",
       "[5090 rows x 2 columns]"
      ]
     },
     "execution_count": 36,
     "metadata": {},
     "output_type": "execute_result"
    }
   ],
   "source": [
    "df"
   ]
  },
  {
   "cell_type": "code",
   "execution_count": 20,
   "id": "3bf86cf9-e02c-46ac-9dfa-a50f2dc19de7",
   "metadata": {},
   "outputs": [
    {
     "data": {
      "text/plain": [
       "ao-vest-blazer-nu                      300\n",
       "ao-hoodie-nu                           300\n",
       "ao-len-nam                             300\n",
       "bo-vest-nu                             300\n",
       "quan-jogger-nam                        300\n",
       "trang-phuc-cosplay                     300\n",
       "quan-nu                                299\n",
       "do-lot-do-ngu-nam                      299\n",
       "ao-len-cardigan                        299\n",
       "ao-dai                                 299\n",
       "ao-nu                                  299\n",
       "ao-nguc                                299\n",
       "dam-nu                                 299\n",
       "quan-nam                               299\n",
       "thoi-trang-nu-quan-dai                 298\n",
       "vay-chong-nang-khau-trang              297\n",
       "do-boi-nam                             182\n",
       "do-hoa-trang-trang-phuc-cosplay-nam     79\n",
       "Name: cloth_type, dtype: int64"
      ]
     },
     "execution_count": 20,
     "metadata": {},
     "output_type": "execute_result"
    }
   ],
   "source": [
    "df = pd.read_csv(os.path.join(_ROOT, 'train_labels.csv'))\n",
    "dict_verified_categories = dict(df['cloth_type'].value_counts() > 50)\n",
    "list_used_categories = [k for k,v in dict_verified_categories.items() if v == True]\n",
    "df_used = df[df['cloth_type'].isin(list_used_categories)]\n",
    "df_used['cloth_type'].value_counts()"
   ]
  },
  {
   "cell_type": "code",
   "execution_count": 31,
   "id": "08ea6137-35b9-4d23-8852-e28ca516cf35",
   "metadata": {},
   "outputs": [],
   "source": [
    "train_cat, valid_cat = train_test_split(list_used_categories, test_size=0.2, random_state=42)\n",
    "dict_testval_set = {\n",
    "    'train': train_cat,\n",
    "    'val': valid_cat\n",
    "}\n",
    "# dict_testval_set"
   ]
  },
  {
   "cell_type": "code",
   "execution_count": 37,
   "id": "caec343e-852a-4fd3-aa5f-a3187d3b3d65",
   "metadata": {},
   "outputs": [
    {
     "data": {
      "text/plain": [
       "['quan-jogger-nam',\n",
       " 'quan-nam',\n",
       " 'do-boi-nam',\n",
       " 'vay-chong-nang-khau-trang',\n",
       " 'ao-nguc',\n",
       " 'ao-len-nam',\n",
       " 'ao-dai',\n",
       " 'do-hoa-trang-trang-phuc-cosplay-nam',\n",
       " 'bo-vest-nu',\n",
       " 'dam-nu',\n",
       " 'quan-nu',\n",
       " 'ao-nu',\n",
       " 'thoi-trang-nu-quan-dai',\n",
       " 'ao-len-cardigan']"
      ]
     },
     "execution_count": 37,
     "metadata": {},
     "output_type": "execute_result"
    }
   ],
   "source": [
    "train_cat"
   ]
  },
  {
   "cell_type": "code",
   "execution_count": 40,
   "id": "dd9c0a2d-ecc1-4103-b84d-1e6a4cb8b8a3",
   "metadata": {},
   "outputs": [],
   "source": [
    "# x_val = df[df['cloth_type'].isin(valid_cat)]['image_name']\n",
    "# y_val = df[df['cloth_type'].isin(valid_cat)]['cloth_type']\n",
    "df_gallery, df_query = train_test_split(df[df['cloth_type'].isin(valid_cat)], test_size=0.2, random_state=42)"
   ]
  },
  {
   "cell_type": "code",
   "execution_count": 45,
   "id": "51e56967-f677-4e6a-a41a-68ee236c58a5",
   "metadata": {},
   "outputs": [],
   "source": [
    "df_gallery['is_query']=False\n",
    "df_query['is_query']=True\n",
    "df_val"
   ]
  },
  {
   "cell_type": "code",
   "execution_count": 44,
   "id": "cdbfa385-16e4-45a5-bcdf-742a0c9ec139",
   "metadata": {},
   "outputs": [],
   "source": [
    "df_gallery.to_csv(r'D:\\data\\fashion\\gallery.csv', header=True, index=False)\n",
    "df_query.to_csv(r'D:\\data\\fashion\\query.csv', header=True, index=False)"
   ]
  },
  {
   "cell_type": "code",
   "execution_count": 42,
   "id": "3f0b6805-d519-41d7-8be9-4fe80b917919",
   "metadata": {},
   "outputs": [
    {
     "data": {
      "text/plain": [
       "(ao-vest-blazer-nu     245\n",
       " do-lot-do-ngu-nam     239\n",
       " trang-phuc-cosplay    238\n",
       " ao-hoodie-nu          237\n",
       " Name: cloth_type, dtype: int64,\n",
       " ao-hoodie-nu          63\n",
       " trang-phuc-cosplay    62\n",
       " do-lot-do-ngu-nam     60\n",
       " ao-vest-blazer-nu     55\n",
       " Name: cloth_type, dtype: int64)"
      ]
     },
     "execution_count": 42,
     "metadata": {},
     "output_type": "execute_result"
    }
   ],
   "source": [
    "df_gallery['cloth_type'].value_counts(), df_query['cloth_type'].value_counts()"
   ]
  },
  {
   "cell_type": "code",
   "execution_count": 33,
   "id": "178b9ce9-b04e-4ab2-9c99-e691d1683baa",
   "metadata": {},
   "outputs": [],
   "source": [
    "outfile = open('../resources/trainval.json', 'w')\n",
    "json.dump(dict_testval_set, outfile, indent = 4)\n",
    "outfile.close()"
   ]
  }
 ],
 "metadata": {
  "kernelspec": {
   "display_name": "classify",
   "language": "python",
   "name": "classify"
  },
  "language_info": {
   "codemirror_mode": {
    "name": "ipython",
    "version": 3
   },
   "file_extension": ".py",
   "mimetype": "text/x-python",
   "name": "python",
   "nbconvert_exporter": "python",
   "pygments_lexer": "ipython3",
   "version": "3.9.7"
  }
 },
 "nbformat": 4,
 "nbformat_minor": 5
}
